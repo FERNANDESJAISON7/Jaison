{
 "cells": [
  {
   "cell_type": "code",
   "execution_count": 1,
   "id": "ea84490a",
   "metadata": {},
   "outputs": [
    {
     "name": "stdout",
     "output_type": "stream",
     "text": [
      "EDA on youtube\n"
     ]
    }
   ],
   "source": [
    "print ('EDA on youtube')"
   ]
  },
  {
   "cell_type": "code",
   "execution_count": 20,
   "id": "5f80290b",
   "metadata": {},
   "outputs": [
    {
     "name": "stdout",
     "output_type": "stream",
     "text": [
      "Welcome to the EDA of Youtube\n"
     ]
    }
   ],
   "source": [
    "print ('Welcome to the EDA of Youtube')     "
   ]
  },
  {
   "cell_type": "code",
   "execution_count": 21,
   "id": "1b573014",
   "metadata": {},
   "outputs": [
    {
     "name": "stdout",
     "output_type": "stream",
     "text": [
      "Ched Hurley\n",
      "Steve Chen\n",
      "Jawed Karim\n"
     ]
    }
   ],
   "source": [
    "founder_indicator = 'Founders of youtube'\n",
    "if founder_indicator == 'Founders of youtube':\n",
    "    print ('Ched Hurley')\n",
    "    print ('Steve Chen')\n",
    "    print ('Jawed Karim')\n",
    "else:\n",
    "    print ('Steve Chen', 'Jawed Karim ')"
   ]
  },
  {
   "cell_type": "code",
   "execution_count": 15,
   "id": "35d8a286",
   "metadata": {},
   "outputs": [],
   "source": [
    "import pandas as pd"
   ]
  },
  {
   "cell_type": "code",
   "execution_count": 12,
   "id": "79f3c193",
   "metadata": {},
   "outputs": [],
   "source": [
    "import csv"
   ]
  },
  {
   "cell_type": "code",
   "execution_count": null,
   "id": "561e0fa9",
   "metadata": {
    "scrolled": true
   },
   "outputs": [],
   "source": []
  },
  {
   "cell_type": "code",
   "execution_count": 5,
   "id": "101d8b29",
   "metadata": {
    "scrolled": true
   },
   "outputs": [
    {
     "ename": "NameError",
     "evalue": "name 'pd' is not defined",
     "output_type": "error",
     "traceback": [
      "\u001b[1;31m---------------------------------------------------------------------------\u001b[0m",
      "\u001b[1;31mNameError\u001b[0m                                 Traceback (most recent call last)",
      "\u001b[1;32m<ipython-input-5-dbe0ec5281ea>\u001b[0m in \u001b[0;36m<module>\u001b[1;34m\u001b[0m\n\u001b[0;32m      1\u001b[0m \u001b[1;31m# loading csv files using pd.read_csv() method\u001b[0m\u001b[1;33m\u001b[0m\u001b[1;33m\u001b[0m\u001b[1;33m\u001b[0m\u001b[0m\n\u001b[0;32m      2\u001b[0m \u001b[1;33m\u001b[0m\u001b[0m\n\u001b[1;32m----> 3\u001b[1;33m \u001b[0mdf\u001b[0m \u001b[1;33m=\u001b[0m \u001b[0mpd\u001b[0m\u001b[1;33m.\u001b[0m\u001b[0mread_csv\u001b[0m\u001b[1;33m(\u001b[0m\u001b[1;34m'https://github.com/FERNANDESJAISON7/Jaison/blob/main/Youtubevideos.csv'\u001b[0m\u001b[1;33m,\u001b[0m\u001b[0mencoding\u001b[0m\u001b[1;33m=\u001b[0m\u001b[1;34m'utf8'\u001b[0m\u001b[1;33m,\u001b[0m\u001b[0merror_bad_lines\u001b[0m \u001b[1;33m=\u001b[0m \u001b[1;32mFalse\u001b[0m\u001b[1;33m)\u001b[0m\u001b[1;33m\u001b[0m\u001b[1;33m\u001b[0m\u001b[0m\n\u001b[0m",
      "\u001b[1;31mNameError\u001b[0m: name 'pd' is not defined"
     ]
    }
   ],
   "source": [
    "# loading csv files using pd.read_csv() method\n",
    "\n",
    "df = pd.read_csv('https://github.com/FERNANDESJAISON7/Jaison/blob/main/Youtubevideos.csv',encoding='utf8',error_bad_lines = False)"
   ]
  },
  {
   "cell_type": "code",
   "execution_count": null,
   "id": "5fa5085c",
   "metadata": {},
   "outputs": [],
   "source": []
  },
  {
   "cell_type": "code",
   "execution_count": 10,
   "id": "74680447",
   "metadata": {},
   "outputs": [],
   "source": [
    "import matplotlib.pyplot as plt\n",
    "%matplotlib inline"
   ]
  },
  {
   "cell_type": "code",
   "execution_count": 13,
   "id": "6d8571c2",
   "metadata": {},
   "outputs": [],
   "source": []
  },
  {
   "cell_type": "code",
   "execution_count": 15,
   "id": "3c83d2d5",
   "metadata": {
    "scrolled": true
   },
   "outputs": [
    {
     "ename": "NameError",
     "evalue": "name 'videos' is not defined",
     "output_type": "error",
     "traceback": [
      "\u001b[1;31m---------------------------------------------------------------------------\u001b[0m",
      "\u001b[1;31mNameError\u001b[0m                                 Traceback (most recent call last)",
      "\u001b[1;32m<ipython-input-15-f3a177767572>\u001b[0m in \u001b[0;36m<module>\u001b[1;34m\u001b[0m\n\u001b[0;32m      1\u001b[0m \u001b[0mpol\u001b[0m\u001b[1;33m=\u001b[0m\u001b[1;33m[\u001b[0m\u001b[1;33m]\u001b[0m \u001b[1;31m# list which will contain the polarity of the comments\u001b[0m\u001b[1;33m\u001b[0m\u001b[1;33m\u001b[0m\u001b[0m\n\u001b[1;32m----> 2\u001b[1;33m \u001b[1;32mfor\u001b[0m \u001b[0mi\u001b[0m \u001b[1;32min\u001b[0m \u001b[0mvideos\u001b[0m\u001b[1;33m.\u001b[0m\u001b[0mvalues\u001b[0m\u001b[1;33m:\u001b[0m\u001b[1;33m\u001b[0m\u001b[1;33m\u001b[0m\u001b[0m\n\u001b[0m\u001b[0;32m      3\u001b[0m     \u001b[1;32mtry\u001b[0m\u001b[1;33m:\u001b[0m\u001b[1;33m\u001b[0m\u001b[1;33m\u001b[0m\u001b[0m\n\u001b[0;32m      4\u001b[0m         \u001b[0manalysis\u001b[0m \u001b[1;33m=\u001b[0m \u001b[0mTextBlob\u001b[0m\u001b[1;33m(\u001b[0m\u001b[0mi\u001b[0m\u001b[1;33m)\u001b[0m\u001b[1;33m\u001b[0m\u001b[1;33m\u001b[0m\u001b[0m\n\u001b[0;32m      5\u001b[0m         \u001b[0mpol\u001b[0m\u001b[1;33m.\u001b[0m\u001b[0mappend\u001b[0m\u001b[1;33m(\u001b[0m\u001b[0manalysis\u001b[0m\u001b[1;33m.\u001b[0m\u001b[0msentiment\u001b[0m\u001b[1;33m.\u001b[0m\u001b[0mpolarity\u001b[0m\u001b[1;33m)\u001b[0m\u001b[1;33m\u001b[0m\u001b[1;33m\u001b[0m\u001b[0m\n",
      "\u001b[1;31mNameError\u001b[0m: name 'videos' is not defined"
     ]
    }
   ],
   "source": [
    "pol=[] # list which will contain the polarity of the comments\n",
    "for i in videos.values:\n",
    "    try:\n",
    "        analysis = TextBlob(i)\n",
    "        pol.append(analysis.sentiment.polarity)\n",
    "        \n",
    "    except:\n",
    "        pol.append(0)"
   ]
  },
  {
   "cell_type": "code",
   "execution_count": 110,
   "id": "7fc96c89",
   "metadata": {
    "scrolled": true
   },
   "outputs": [
    {
     "name": "stdout",
     "output_type": "stream",
     "text": [
      "\n"
     ]
    }
   ],
   "source": [
    "index = pd.Index(list(range(11)), name='rows')\n"
   ]
  },
  {
   "cell_type": "code",
   "execution_count": 111,
   "id": "72bae997",
   "metadata": {},
   "outputs": [],
   "source": [
    "columns = pd.Index(['video_id', 'title', 'channel_title','category_id','tags','views','likes','dislikes','comment_total','thumbnail_link','date'], name='cols')"
   ]
  },
  {
   "cell_type": "code",
   "execution_count": 106,
   "id": "df97ab3e",
   "metadata": {},
   "outputs": [],
   "source": [
    "import numpy as np"
   ]
  },
  {
   "cell_type": "code",
   "execution_count": 112,
   "id": "524d174b",
   "metadata": {},
   "outputs": [],
   "source": [
    "df = pd.DataFrame(np.random.randn(11, 11), index=index, columns=columns)"
   ]
  },
  {
   "cell_type": "code",
   "execution_count": 104,
   "id": "cb8a2808",
   "metadata": {},
   "outputs": [
    {
     "name": "stderr",
     "output_type": "stream",
     "text": [
      "<ipython-input-104-c60c69af740f>:3: SettingWithCopyWarning: \n",
      "A value is trying to be set on a copy of a slice from a DataFrame\n",
      "\n",
      "See the caveats in the documentation: https://pandas.pydata.org/pandas-docs/stable/user_guide/indexing.html#returning-a-view-versus-a-copy\n",
      "  videos['pol'][videos.pol==0]= 0\n",
      "<ipython-input-104-c60c69af740f>:5: SettingWithCopyWarning: \n",
      "A value is trying to be set on a copy of a slice from a DataFrame\n",
      "\n",
      "See the caveats in the documentation: https://pandas.pydata.org/pandas-docs/stable/user_guide/indexing.html#returning-a-view-versus-a-copy\n",
      "  videos['pol'][videos.pol > 0]= 1\n",
      "<ipython-input-104-c60c69af740f>:6: SettingWithCopyWarning: \n",
      "A value is trying to be set on a copy of a slice from a DataFrame\n",
      "\n",
      "See the caveats in the documentation: https://pandas.pydata.org/pandas-docs/stable/user_guide/indexing.html#returning-a-view-versus-a-copy\n",
      "  videos['pol'][videos.pol < 0]= -1\n"
     ]
    }
   ],
   "source": [
    "videos['pol']=pol\n",
    "\n",
    "videos['pol'][videos.pol==0]= 0\n",
    "\n",
    "videos['pol'][videos.pol > 0]= 1\n",
    "videos['pol'][videos.pol < 0]= -1"
   ]
  },
  {
   "cell_type": "code",
   "execution_count": 113,
   "id": "0ce9538e",
   "metadata": {
    "scrolled": true
   },
   "outputs": [
    {
     "data": {
      "text/html": [
       "<div>\n",
       "<style scoped>\n",
       "    .dataframe tbody tr th:only-of-type {\n",
       "        vertical-align: middle;\n",
       "    }\n",
       "\n",
       "    .dataframe tbody tr th {\n",
       "        vertical-align: top;\n",
       "    }\n",
       "\n",
       "    .dataframe thead th {\n",
       "        text-align: right;\n",
       "    }\n",
       "</style>\n",
       "<table border=\"1\" class=\"dataframe\">\n",
       "  <thead>\n",
       "    <tr style=\"text-align: right;\">\n",
       "      <th>cols</th>\n",
       "      <th>video_id</th>\n",
       "      <th>title</th>\n",
       "      <th>channel_title</th>\n",
       "      <th>category_id</th>\n",
       "      <th>tags</th>\n",
       "      <th>views</th>\n",
       "      <th>likes</th>\n",
       "      <th>dislikes</th>\n",
       "      <th>comment_total</th>\n",
       "      <th>thumbnail_link</th>\n",
       "      <th>date</th>\n",
       "    </tr>\n",
       "    <tr>\n",
       "      <th>rows</th>\n",
       "      <th></th>\n",
       "      <th></th>\n",
       "      <th></th>\n",
       "      <th></th>\n",
       "      <th></th>\n",
       "      <th></th>\n",
       "      <th></th>\n",
       "      <th></th>\n",
       "      <th></th>\n",
       "      <th></th>\n",
       "      <th></th>\n",
       "    </tr>\n",
       "  </thead>\n",
       "  <tbody>\n",
       "    <tr>\n",
       "      <th>0</th>\n",
       "      <td>1.931375</td>\n",
       "      <td>1.172341</td>\n",
       "      <td>0.018505</td>\n",
       "      <td>-0.254934</td>\n",
       "      <td>0.017796</td>\n",
       "      <td>-0.507585</td>\n",
       "      <td>0.433182</td>\n",
       "      <td>-0.541067</td>\n",
       "      <td>0.001238</td>\n",
       "      <td>-2.400867</td>\n",
       "      <td>-1.234102</td>\n",
       "    </tr>\n",
       "    <tr>\n",
       "      <th>1</th>\n",
       "      <td>-1.286835</td>\n",
       "      <td>-2.637120</td>\n",
       "      <td>-0.536325</td>\n",
       "      <td>1.398699</td>\n",
       "      <td>0.368967</td>\n",
       "      <td>-1.930652</td>\n",
       "      <td>-0.230257</td>\n",
       "      <td>0.446952</td>\n",
       "      <td>0.049632</td>\n",
       "      <td>-1.014921</td>\n",
       "      <td>0.319593</td>\n",
       "    </tr>\n",
       "    <tr>\n",
       "      <th>2</th>\n",
       "      <td>0.340621</td>\n",
       "      <td>0.563240</td>\n",
       "      <td>-1.688709</td>\n",
       "      <td>-0.013824</td>\n",
       "      <td>-0.100392</td>\n",
       "      <td>0.720318</td>\n",
       "      <td>0.913374</td>\n",
       "      <td>-0.929196</td>\n",
       "      <td>0.694992</td>\n",
       "      <td>-1.050710</td>\n",
       "      <td>-0.203386</td>\n",
       "    </tr>\n",
       "    <tr>\n",
       "      <th>3</th>\n",
       "      <td>1.923914</td>\n",
       "      <td>-0.007735</td>\n",
       "      <td>-0.104067</td>\n",
       "      <td>1.091515</td>\n",
       "      <td>0.014793</td>\n",
       "      <td>-0.062941</td>\n",
       "      <td>-1.126927</td>\n",
       "      <td>-0.285164</td>\n",
       "      <td>0.243834</td>\n",
       "      <td>-0.762058</td>\n",
       "      <td>0.072697</td>\n",
       "    </tr>\n",
       "    <tr>\n",
       "      <th>4</th>\n",
       "      <td>-0.922680</td>\n",
       "      <td>-0.693412</td>\n",
       "      <td>-0.621858</td>\n",
       "      <td>0.882872</td>\n",
       "      <td>-0.277849</td>\n",
       "      <td>-1.270775</td>\n",
       "      <td>-0.390312</td>\n",
       "      <td>-0.388751</td>\n",
       "      <td>-1.537514</td>\n",
       "      <td>0.687653</td>\n",
       "      <td>-1.087256</td>\n",
       "    </tr>\n",
       "    <tr>\n",
       "      <th>5</th>\n",
       "      <td>0.102561</td>\n",
       "      <td>0.655070</td>\n",
       "      <td>0.917859</td>\n",
       "      <td>0.148430</td>\n",
       "      <td>0.549596</td>\n",
       "      <td>2.338347</td>\n",
       "      <td>-0.356790</td>\n",
       "      <td>-1.188862</td>\n",
       "      <td>0.587127</td>\n",
       "      <td>0.061387</td>\n",
       "      <td>0.026411</td>\n",
       "    </tr>\n",
       "    <tr>\n",
       "      <th>6</th>\n",
       "      <td>-0.234748</td>\n",
       "      <td>0.024255</td>\n",
       "      <td>0.897112</td>\n",
       "      <td>1.497332</td>\n",
       "      <td>1.419263</td>\n",
       "      <td>-0.562543</td>\n",
       "      <td>0.986269</td>\n",
       "      <td>1.348596</td>\n",
       "      <td>1.346561</td>\n",
       "      <td>0.841643</td>\n",
       "      <td>2.609642</td>\n",
       "    </tr>\n",
       "    <tr>\n",
       "      <th>7</th>\n",
       "      <td>3.084143</td>\n",
       "      <td>1.364294</td>\n",
       "      <td>-1.205277</td>\n",
       "      <td>0.790600</td>\n",
       "      <td>0.671730</td>\n",
       "      <td>0.626517</td>\n",
       "      <td>0.038305</td>\n",
       "      <td>0.756390</td>\n",
       "      <td>0.070866</td>\n",
       "      <td>-0.312117</td>\n",
       "      <td>0.320242</td>\n",
       "    </tr>\n",
       "    <tr>\n",
       "      <th>8</th>\n",
       "      <td>-0.441564</td>\n",
       "      <td>0.373458</td>\n",
       "      <td>0.204377</td>\n",
       "      <td>-2.265957</td>\n",
       "      <td>0.636629</td>\n",
       "      <td>-0.443772</td>\n",
       "      <td>1.482556</td>\n",
       "      <td>0.583923</td>\n",
       "      <td>-0.248708</td>\n",
       "      <td>1.795296</td>\n",
       "      <td>-0.648608</td>\n",
       "    </tr>\n",
       "    <tr>\n",
       "      <th>9</th>\n",
       "      <td>1.347685</td>\n",
       "      <td>-0.874471</td>\n",
       "      <td>0.649595</td>\n",
       "      <td>-1.677119</td>\n",
       "      <td>-2.221825</td>\n",
       "      <td>1.238268</td>\n",
       "      <td>1.765985</td>\n",
       "      <td>-0.798279</td>\n",
       "      <td>-0.810374</td>\n",
       "      <td>1.447815</td>\n",
       "      <td>1.032755</td>\n",
       "    </tr>\n",
       "    <tr>\n",
       "      <th>10</th>\n",
       "      <td>1.412235</td>\n",
       "      <td>-0.874875</td>\n",
       "      <td>-0.552147</td>\n",
       "      <td>-0.247521</td>\n",
       "      <td>0.712874</td>\n",
       "      <td>-0.089383</td>\n",
       "      <td>0.484568</td>\n",
       "      <td>1.401283</td>\n",
       "      <td>0.214102</td>\n",
       "      <td>0.541456</td>\n",
       "      <td>-0.400730</td>\n",
       "    </tr>\n",
       "  </tbody>\n",
       "</table>\n",
       "</div>"
      ],
      "text/plain": [
       "cols  video_id     title  channel_title  category_id      tags     views  \\\n",
       "rows                                                                       \n",
       "0     1.931375  1.172341       0.018505    -0.254934  0.017796 -0.507585   \n",
       "1    -1.286835 -2.637120      -0.536325     1.398699  0.368967 -1.930652   \n",
       "2     0.340621  0.563240      -1.688709    -0.013824 -0.100392  0.720318   \n",
       "3     1.923914 -0.007735      -0.104067     1.091515  0.014793 -0.062941   \n",
       "4    -0.922680 -0.693412      -0.621858     0.882872 -0.277849 -1.270775   \n",
       "5     0.102561  0.655070       0.917859     0.148430  0.549596  2.338347   \n",
       "6    -0.234748  0.024255       0.897112     1.497332  1.419263 -0.562543   \n",
       "7     3.084143  1.364294      -1.205277     0.790600  0.671730  0.626517   \n",
       "8    -0.441564  0.373458       0.204377    -2.265957  0.636629 -0.443772   \n",
       "9     1.347685 -0.874471       0.649595    -1.677119 -2.221825  1.238268   \n",
       "10    1.412235 -0.874875      -0.552147    -0.247521  0.712874 -0.089383   \n",
       "\n",
       "cols     likes  dislikes  comment_total  thumbnail_link      date  \n",
       "rows                                                               \n",
       "0     0.433182 -0.541067       0.001238       -2.400867 -1.234102  \n",
       "1    -0.230257  0.446952       0.049632       -1.014921  0.319593  \n",
       "2     0.913374 -0.929196       0.694992       -1.050710 -0.203386  \n",
       "3    -1.126927 -0.285164       0.243834       -0.762058  0.072697  \n",
       "4    -0.390312 -0.388751      -1.537514        0.687653 -1.087256  \n",
       "5    -0.356790 -1.188862       0.587127        0.061387  0.026411  \n",
       "6     0.986269  1.348596       1.346561        0.841643  2.609642  \n",
       "7     0.038305  0.756390       0.070866       -0.312117  0.320242  \n",
       "8     1.482556  0.583923      -0.248708        1.795296 -0.648608  \n",
       "9     1.765985 -0.798279      -0.810374        1.447815  1.032755  \n",
       "10    0.484568  1.401283       0.214102        0.541456 -0.400730  "
      ]
     },
     "execution_count": 113,
     "metadata": {},
     "output_type": "execute_result"
    }
   ],
   "source": [
    "df"
   ]
  },
  {
   "cell_type": "code",
   "execution_count": null,
   "id": "aca48199",
   "metadata": {},
   "outputs": [],
   "source": [
    "x=df['channel_title']\n",
    "y=df['likes']"
   ]
  },
  {
   "cell_type": "code",
   "execution_count": 7,
   "id": "4da52e1e",
   "metadata": {},
   "outputs": [
    {
     "ename": "NameError",
     "evalue": "name 'plt' is not defined",
     "output_type": "error",
     "traceback": [
      "\u001b[1;31m---------------------------------------------------------------------------\u001b[0m",
      "\u001b[1;31mNameError\u001b[0m                                 Traceback (most recent call last)",
      "\u001b[1;32m<ipython-input-7-0064a750b375>\u001b[0m in \u001b[0;36m<module>\u001b[1;34m\u001b[0m\n\u001b[1;32m----> 1\u001b[1;33m \u001b[0mplt\u001b[0m\u001b[1;33m.\u001b[0m\u001b[0mbar\u001b[0m\u001b[1;33m(\u001b[0m\u001b[0mx\u001b[0m\u001b[1;33m,\u001b[0m\u001b[0my\u001b[0m\u001b[1;33m,\u001b[0m\u001b[0mwidth\u001b[0m\u001b[1;33m=\u001b[0m\u001b[1;33m[\u001b[0m\u001b[1;33m-\u001b[0m\u001b[1;36m0.4\u001b[0m\u001b[1;33m,\u001b[0m\u001b[1;36m0.2\u001b[0m\u001b[1;33m,\u001b[0m\u001b[1;36m0.7\u001b[0m\u001b[1;33m]\u001b[0m\u001b[1;33m,\u001b[0m\u001b[0malign\u001b[0m\u001b[1;33m=\u001b[0m\u001b[1;34m'edge'\u001b[0m\u001b[1;33m,\u001b[0m\u001b[0mcolor\u001b[0m\u001b[1;33m=\u001b[0m\u001b[1;33m[\u001b[0m\u001b[1;34m'red'\u001b[0m\u001b[1;33m,\u001b[0m\u001b[1;34m'green'\u001b[0m\u001b[1;33m,\u001b[0m\u001b[1;34m'yellow'\u001b[0m\u001b[1;33m]\u001b[0m\u001b[1;33m,\u001b[0m\u001b[0medgecolor\u001b[0m\u001b[1;33m=\u001b[0m\u001b[1;34m'black'\u001b[0m\u001b[1;33m,\u001b[0m\u001b[0mlinewidth\u001b[0m\u001b[1;33m=\u001b[0m\u001b[1;34m'2'\u001b[0m\u001b[1;33m)\u001b[0m\u001b[1;33m\u001b[0m\u001b[1;33m\u001b[0m\u001b[0m\n\u001b[0m\u001b[0;32m      2\u001b[0m \u001b[0mplt\u001b[0m\u001b[1;33m.\u001b[0m\u001b[0mxlabel\u001b[0m\u001b[1;33m(\u001b[0m\u001b[1;34m\"channel_title in youtube\"\u001b[0m\u001b[1;33m)\u001b[0m\u001b[1;33m\u001b[0m\u001b[1;33m\u001b[0m\u001b[0m\n\u001b[0;32m      3\u001b[0m \u001b[0mplt\u001b[0m\u001b[1;33m.\u001b[0m\u001b[0mylabel\u001b[0m\u001b[1;33m(\u001b[0m\u001b[1;34m\"likes on youtube\"\u001b[0m\u001b[1;33m)\u001b[0m\u001b[1;33m\u001b[0m\u001b[1;33m\u001b[0m\u001b[0m\n",
      "\u001b[1;31mNameError\u001b[0m: name 'plt' is not defined"
     ]
    }
   ],
   "source": [
    "plt.bar(x,y,width=[-0.4,0.2,0.7],align='edge',color=['red','green','yellow'],edgecolor='black',linewidth='2')\n",
    "plt.xlabel(\"channel_title in youtube\")\n",
    "plt.ylabel(\"likes on youtube\")"
   ]
  },
  {
   "cell_type": "code",
   "execution_count": null,
   "id": "df76e613",
   "metadata": {},
   "outputs": [],
   "source": []
  }
 ],
 "metadata": {
  "kernelspec": {
   "display_name": "Python 3",
   "language": "python",
   "name": "python3"
  },
  "language_info": {
   "codemirror_mode": {
    "name": "ipython",
    "version": 3
   },
   "file_extension": ".py",
   "mimetype": "text/x-python",
   "name": "python",
   "nbconvert_exporter": "python",
   "pygments_lexer": "ipython3",
   "version": "3.8.8"
  }
 },
 "nbformat": 4,
 "nbformat_minor": 5
}
